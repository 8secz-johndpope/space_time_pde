{
 "cells": [
  {
   "cell_type": "code",
   "execution_count": 1,
   "metadata": {},
   "outputs": [],
   "source": [
    "import matplotlib.pyplot as plt\n",
    "%matplotlib inline\n",
    "import seaborn as sns\n",
    "import pandas as pd\n",
    "import numpy as np\n",
    "import os\n",
    "\n",
    "sns.set()\n",
    "sns.set_style(\"ticks\")\n",
    "# sns.axes_style(\"whitegrid\")"
   ]
  },
  {
   "cell_type": "code",
   "execution_count": 2,
   "metadata": {},
   "outputs": [],
   "source": [
    "os.makedirs('plots', exist_ok=True)"
   ]
  },
  {
   "cell_type": "code",
   "execution_count": 14,
   "metadata": {},
   "outputs": [],
   "source": [
    "# read csv\n",
    "df = pd.read_csv(\"scaling/scaling_multinode_realdata_torch.csv\")\n",
    "df.sort_values('num_gpu', inplace=True)\n",
    "epoch_size = 3584\n",
    "\n",
    "# add ideal throughput curve\n",
    "df['throughput'] = epoch_size / df['train_time_per_epoch']\n",
    "df['ideal'] = df['num_gpu'] * df.loc[df['num_gpu'] == 1, 'throughput'].values[0]\n",
    "\n",
    "# add efficiency curve\n",
    "df['efficiency'] = df['throughput'] / df['ideal']"
   ]
  },
  {
   "cell_type": "code",
   "execution_count": 24,
   "metadata": {},
   "outputs": [],
   "source": [
    "# Throughput vs nGPUs\n",
    "fig = plt.figure(figsize=(4, 4))\n",
    "plt.plot(df['num_gpu'], epoch_size / df['train_time_per_epoch'], '-o', label='measured')\n",
    "plt.plot(df['num_gpu'], df['ideal'], '--', label='ideal')\n",
    "plt.xlabel('Number of GPUs')\n",
    "plt.ylabel('Throughput (samples per sec)')\n",
    "plt.yticks(np.linspace(0, 2000, 5))\n",
    "plt.legend()\n",
    "# plt.title(\"Throughput vs num GPUs\")\n",
    "plt.ticklabel_format(axis=\"y\", style=\"sci\", scilimits=(0,0))\n",
    "# plt.show()\n",
    "plt.tight_layout()\n",
    "plt.savefig('plots/scaling_throughput_vs_gpu.pdf')\n",
    "plt.close(fig)\n",
    "\n",
    "# Scaling efficiency vs nGPUs\n",
    "fig = plt.figure(figsize=(4, 4))\n",
    "plt.plot(df['num_gpu'], df['efficiency'], '-o', label='measured')\n",
    "plt.plot(df['num_gpu'], np.ones(df.shape[0]), '--', label='ideal')\n",
    "plt.xlabel('Number of GPUs')\n",
    "plt.ylabel('Fraction of ideal scaling')\n",
    "# plt.title(\"Throughput vs num GPUs\")\n",
    "plt.legend(loc='upper right')\n",
    "# plt.show()\n",
    "plt.tight_layout()\n",
    "plt.savefig('plots/scaling_ratio_vs_gpu.pdf')\n",
    "plt.close(fig)"
   ]
  },
  {
   "cell_type": "code",
   "execution_count": 20,
   "metadata": {},
   "outputs": [
    {
     "data": {
      "text/plain": [
       "array([   0.,  500., 1000., 1500., 2000.])"
      ]
     },
     "execution_count": 20,
     "metadata": {},
     "output_type": "execute_result"
    }
   ],
   "source": [
    "np.linspace(0, 2000, 5)"
   ]
  },
  {
   "cell_type": "code",
   "execution_count": 25,
   "metadata": {},
   "outputs": [],
   "source": [
    "def p10(x):\n",
    "    return np.percentile(x, 10)\n",
    "def p50(x):\n",
    "    return np.percentile(x, 50)\n",
    "def p90(x):\n",
    "    return np.percentile(x, 90)\n",
    "\n",
    "def plot_df_with_interval(df, y):\n",
    "    df.loc[:, 'epoch_bin'] = pd.qcut(\n",
    "        df['epoch'], 50, labels=np.linspace(0.5, 98.5, 50))\n",
    "    df.loc[:, 'epoch_bin'] = df['epoch_bin'].astype('float')\n",
    "    df_group = df.groupby(['epoch_bin']).agg(\n",
    "        loss_p10=pd.NamedAgg(column='loss', aggfunc=p10),\n",
    "        loss_p50=pd.NamedAgg(column='loss', aggfunc=p50),\n",
    "        loss_p90=pd.NamedAgg(column='loss', aggfunc=p90),\n",
    "        wall_time_mean=pd.NamedAgg(column='wall_time', aggfunc='mean'),\n",
    "    ).reset_index()\n",
    "    plt.plot(\n",
    "        df_group[y],\n",
    "        df_group['loss_p50'],\n",
    "        label=f'{n} gpu' + f\"{'s' if n > 1 else ''}\",\n",
    "    )\n",
    "    plt.fill_between(\n",
    "        df_group[y],\n",
    "        df_group['loss_p10'],\n",
    "        df_group['loss_p90'],\n",
    "        alpha=0.3,\n",
    "    )\n",
    "    if y == 'wall_time_mean':\n",
    "        plt.ticklabel_format(axis=\"x\", style=\"sci\", scilimits=(0,0))\n",
    "\n",
    "ngpus = [1, 2, 16, 128]\n",
    "losslim = 0.10\n",
    "csvs = [f'log/scaling{n}gpu_lr1e-2/train_curve.csv' for n in ngpus]\n",
    "csvs[-1] = 'log/scaling128gpu_lr4e-2/train_curve.csv'\n",
    "\n",
    "# plot loss vs epoch\n",
    "fig = plt.figure(figsize=(4, 4))\n",
    "for idx, n in enumerate(ngpus):\n",
    "    df = pd.read_csv(csvs[idx])    \n",
    "    plot_df_with_interval(df, 'epoch_bin')\n",
    "#     plt.plot(df['epoch'], df['loss'], label=f'{n} gpu'+f\"{'s' if n > 1 else ''}\")\n",
    "axes = plt.gca()\n",
    "axes.set_ylim([0,losslim])\n",
    "axes.set_xlabel('Epochs')\n",
    "axes.set_ylabel('Loss')\n",
    "plt.legend()\n",
    "# plt.show()\n",
    "plt.tight_layout()\n",
    "plt.savefig('plots/scaling_loss_vs_epoch.pdf')\n",
    "plt.close(fig)\n",
    "\n",
    "# plot loss vs wall time\n",
    "fig = plt.figure(figsize=(4, 4))\n",
    "for idx, n in enumerate(ngpus):\n",
    "    df = pd.read_csv(f'log/scaling{n}gpu_lr1e-2/train_curve.csv')    \n",
    "    plot_df_with_interval(df, 'wall_time_mean')\n",
    "#     plt.plot(df['epoch'], df['loss'], label=f'{n} gpu'+f\"{'s' if n > 1 else ''}\")\n",
    "axes = plt.gca()\n",
    "axes.set_ylim([0,losslim])\n",
    "axes.set_xlabel('Wall Time (s)')\n",
    "axes.set_ylabel('Loss')\n",
    "plt.legend()\n",
    "# plt.show()\n",
    "plt.tight_layout()\n",
    "plt.savefig('plots/scaling_loss_vs_time.pdf')\n",
    "plt.close(fig)"
   ]
  }
 ],
 "metadata": {
  "kernelspec": {
   "display_name": "Python 3",
   "language": "python",
   "name": "python3"
  },
  "language_info": {
   "codemirror_mode": {
    "name": "ipython",
    "version": 3
   },
   "file_extension": ".py",
   "mimetype": "text/x-python",
   "name": "python",
   "nbconvert_exporter": "python",
   "pygments_lexer": "ipython3",
   "version": "3.7.4"
  }
 },
 "nbformat": 4,
 "nbformat_minor": 4
}
